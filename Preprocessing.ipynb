{
 "cells": [
  {
   "cell_type": "code",
   "execution_count": 1,
   "id": "5b4a8be9",
   "metadata": {},
   "outputs": [],
   "source": [
    "import sys\n",
    "__APPEND_PATHS__ = [\n",
    "    '/mnt/proj/dsl-common-utils-da1/dsl_helpers',\n",
    "    '/mnt/proj/dsl-common-utils-da1/ftdu/',\n",
    "    '/mnt/proj/emob-da1/emil_johansson/helper/',\n",
    "    '/mnt/proj/emob-da1/emil_johansson/emulate_ess_cycle_doids/',\n",
    "    '/mnt/proj/emob-da1/mlogtool/v1.1.0/',\n",
    "]\n",
    "\n",
    "for p in __APPEND_PATHS__:\n",
    "    if p not in sys.path:\n",
    "        sys.path.append(p)\n",
    "        "
   ]
  },
  {
   "cell_type": "code",
   "execution_count": 2,
   "id": "d694cca9",
   "metadata": {},
   "outputs": [
    {
     "data": {
      "text/html": [
       "<style>.container { width:100% !important; }</style>"
      ],
      "text/plain": [
       "<IPython.core.display.HTML object>"
      ]
     },
     "metadata": {},
     "output_type": "display_data"
    }
   ],
   "source": [
    "from IPython.display import display, HTML\n",
    "display(HTML(\"<style>.container { width:100% !important; }</style>\"))"
   ]
  },
  {
   "cell_type": "code",
   "execution_count": 3,
   "id": "93876c8b",
   "metadata": {},
   "outputs": [],
   "source": [
    "import pandas as pd\n",
    "import numpy as np\n",
    "import datetime\n",
    "from dateutil.relativedelta import relativedelta\n",
    "import time\n",
    "import os\n",
    "import re\n",
    "\n",
    "import matplotlib.pyplot as plt\n",
    "import seaborn as sns\n",
    "%matplotlib inline\n",
    "# Import functions for emulating doids.P\n",
    "\n",
    "import build_doids_p4285 as func\n",
    "# PySpark function\n",
    "from pyspark.sql import functions as F, Window as W\n",
    "from pyspark import StorageLevel\n",
    "from functools import reduce\n"
   ]
  },
  {
   "cell_type": "code",
   "execution_count": 4,
   "id": "3e0f7b18",
   "metadata": {
    "scrolled": true
   },
   "outputs": [
    {
     "name": "stdout",
     "output_type": "stream",
     "text": [
      "No valid kerberos ticket found.  Please enter password to get a new ticket.\n",
      "········\n"
     ]
    },
    {
     "name": "stderr",
     "output_type": "stream",
     "text": [
      "/usr/local/lib/python3.6/site-packages/sqlalchemy/connectors/pyodbc.py:79: SAWarning: No driver name specified; this is expected by PyODBC when using DSN-less connections\n",
      "  \"No driver name specified; \"\n"
     ]
    }
   ],
   "source": [
    "from cnx_auto_etl import engine\n",
    "from cnx_dsl_framework import create_engine_dsl_framework\n",
    "import cnx_spark"
   ]
  },
  {
   "cell_type": "code",
   "execution_count": 5,
   "id": "6b64703d",
   "metadata": {},
   "outputs": [],
   "source": [
    "import mlogtool\n",
    "from mlogtool.framework import MLOGFramework\n",
    "import create_json_config"
   ]
  },
  {
   "cell_type": "markdown",
   "id": "7776cd12",
   "metadata": {},
   "source": [
    "## Creating a spark instance"
   ]
  },
  {
   "cell_type": "code",
   "execution_count": 6,
   "id": "aea16e80",
   "metadata": {},
   "outputs": [],
   "source": [
    "list_signals = [\"actccsconnectorstatus_ep2_x_cc\",\n",
    "\"storage_group\",\n",
    "\"vehicle\",\n",
    "\"data_filename\",\n",
    "\"zip_filename\",\n",
    "\"time_abs\",\n",
    "\"time_column\",\n",
    "\"epsstatus_pt_x_h\",\n",
    "\"totalvehicledistancehighres\",\n",
    "\"grosscombinationvehicleweight\",\n",
    "\"ambientairtemperature\",\n",
    "\"frontaxlespeed\",\n",
    "\"reqccscharging_ep2_x_h\",\n",
    "\"vehiclemode\",\n",
    "\"propulsionstatus\",\n",
    "\"actsoc_ep1_x_b1\",\n",
    "\"actsoc_ep1_x_b2\",\n",
    "\"actsoc_ep1_x_b3\",\n",
    "\"actsoc_ep1_x_b4\",\n",
    "\"actsoc_ep1_x_b5\",\n",
    "\"actsoc_ep1_x_b6\",\n",
    "\"actsoc_ep4_x_es\",\n",
    "\"actcurrent_ep1_x_b1\",\n",
    "\"actcurrent_ep1_x_b2\",\n",
    "\"actcurrent_ep1_x_b3\",\n",
    "\"actcurrent_ep1_x_b4\",\n",
    "\"actcurrent_ep1_x_b5\",\n",
    "\"actcurrent_ep1_x_b6\",\n",
    "\"actpackvoltage_ep1_x_b1\",\n",
    "\"actpackvoltage_ep1_x_b2\",\n",
    "\"actpackvoltage_ep1_x_b3\",\n",
    "\"actpackvoltage_ep1_x_b4\",\n",
    "\"actpackvoltage_ep1_x_b5\",\n",
    "\"actpackvoltage_ep1_x_b6\",\n",
    "\"actsohcap_ep1_x_b1\",\n",
    "\"actsohcap_ep1_x_b2\",\n",
    "\"actsohcap_ep1_x_b3\",\n",
    "\"actsohcap_ep1_x_b4\",\n",
    "\"actsohcap_ep1_x_b5\",\n",
    "\"actsohcap_ep1_x_b6\",\n",
    "\"actmintemp_ep1_x_b1\",\n",
    "\"actmintemp_ep1_x_b2\",\n",
    "\"actmintemp_ep1_x_b3\",\n",
    "\"actmintemp_ep1_x_b4\",\n",
    "\"actmintemp_ep1_x_b5\",\n",
    "\"actmintemp_ep1_x_b6\",\n",
    "\"actmaxtemp_ep1_x_b1\",\n",
    "\"actmaxtemp_ep1_x_b2\",\n",
    "\"actmaxtemp_ep1_x_b3\",\n",
    "\"actmaxtemp_ep1_x_b4\",\n",
    "\"actmaxtemp_ep1_x_b5\",\n",
    "\"actmaxtemp_ep1_x_b6\",\n",
    "\"actavgtemp_ep1_x_b1\",\n",
    "\"actavgtemp_ep1_x_b2\",\n",
    "\"actavgtemp_ep1_x_b3\",\n",
    "\"actavgtemp_ep1_x_b4\",\n",
    "\"actavgtemp_ep1_x_b5\",\n",
    "\"actavgtemp_ep1_x_b6\",\n",
    "\"actstatus_ep1_x_b1\",\n",
    "\"actstatus_ep1_x_b2\",\n",
    "\"actstatus_ep1_x_b3\",\n",
    "\"actstatus_ep1_x_b4\",\n",
    "\"actstatus_ep1_x_b5\",\n",
    "\"actstatus_ep1_x_b6\",\n",
    "\"disconnectstatus_ep1_x_b1\",\n",
    "\"disconnectstatus_ep1_x_b2\",\n",
    "\"disconnectstatus_ep1_x_b3\",\n",
    "\"disconnectstatus_ep1_x_b4\",\n",
    "\"disconnectstatus_ep1_x_b5\",\n",
    "\"disconnectstatus_ep1_x_b6\"]\n"
   ]
  },
  {
   "cell_type": "code",
   "execution_count": 7,
   "id": "10675499",
   "metadata": {},
   "outputs": [],
   "source": [
    "#Create a list of signals in default name signal_list.json\n",
    "create_json_config.write_signals_list(list_signals) "
   ]
  },
  {
   "cell_type": "code",
   "execution_count": 8,
   "id": "a0cbd14b",
   "metadata": {},
   "outputs": [],
   "source": [
    "## Only input needed is app_name = \"name of session\" \n",
    "## All parameters are default except vehicle_list which default is empty list for all vehicles\n",
    "create_json_config.write_config_file(app_name = 'thesis_explore',\n",
    "     app_size = 'small',topic_list = ['P4285_EMOB'],vehicle_list= ['FM-1156','FH-2367','FM-1156'],\n",
    "     start_date= '2022-10-01', end_date = '2023-12-31',append_state_flagging = [],sample_time = 1,\n",
    "     append_sampling = [],name_file = 'config',signal_list_name='signal_list')  "
   ]
  },
  {
   "cell_type": "code",
   "execution_count": 9,
   "id": "89f9a485",
   "metadata": {
    "scrolled": false
   },
   "outputs": [
    {
     "name": "stdout",
     "output_type": "stream",
     "text": [
      "CPU times: user 456 ms, sys: 78.9 ms, total: 535 ms\n",
      "Wall time: 44.3 s\n"
     ]
    }
   ],
   "source": [
    "%%time\n",
    "CONFIG_PATH = os.getcwd()+'/config.json'\n",
    "# CONFIG_PATH = 'config.json'\n",
    "OUTPUT_PATH = None\n",
    "LOCAL_PATH = None\n",
    "fw = MLOGFramework(CONFIG_PATH, OUTPUT_PATH, LOCAL_PATH)\n",
    "df, spark = fw.extract_spark_df() #Generates Spark session with name = app_name and spark_df with the data"
   ]
  },
  {
   "cell_type": "markdown",
   "id": "ceecf140",
   "metadata": {},
   "source": [
    "## Filtering and Scaling data"
   ]
  },
  {
   "cell_type": "code",
   "execution_count": 10,
   "id": "dabd6649",
   "metadata": {
    "scrolled": true
   },
   "outputs": [
    {
     "name": "stdout",
     "output_type": "stream",
     "text": [
      "CPU times: user 3.47 ms, sys: 436 µs, total: 3.91 ms\n",
      "Wall time: 160 ms\n"
     ]
    }
   ],
   "source": [
    "%%time\n",
    "#filtering out the necessary features for preprocessing\n",
    "import re\n",
    "\n",
    "df_t = df.select([\"totalvehicledistancehighres\",\n",
    "\"grosscombinationvehicleweight\",\n",
    "\"ambientairtemperature\",\"actsoc_ep1_x_b3\",\"actcurrent_ep1_x_b3\",\"actpackvoltage_ep1_x_b3\",\"actsohcap_ep1_x_b3\",\"actmintemp_ep1_x_b3\",\n",
    "\"actmaxtemp_ep1_x_b3\", \n",
    "\"actavgtemp_ep1_x_b3\",\n",
    "\"actstatus_ep1_x_b3\",\n",
    "\"disconnectstatus_ep1_x_b3\",\"vehiclemode\",'driving_cycle','charging_cycle','vehiclemode_encoded',\"time_abs\",\"data_filename\",\"zip_filename\",\"vehicle\"])\n",
    "\n",
    "#features list needed to be scaled for temprature features\n",
    "temp_cols = [\"actmintemp_ep1_x_b3\",\n",
    "\"actmaxtemp_ep1_x_b3\", \n",
    "\"actavgtemp_ep1_x_b3\"]\n",
    "\n",
    "#making a seperate feature status\n",
    "df_1 = df_t.withColumn(\"status\",F.concat_ws(\"_\",F.col(\"driving_cycle\"),F.col(\"charging_cycle\"))).drop(\"driving_cycle\").drop(\"charging_cycle\")\n",
    "\n"
   ]
  },
  {
   "cell_type": "code",
   "execution_count": 11,
   "id": "4830e535",
   "metadata": {
    "scrolled": true
   },
   "outputs": [],
   "source": [
    "#scaling temp features\n",
    "\n",
    "sint16_scale = 3276.7\n",
    "T0 = -273.15 # use absolute zero as an indicator for when to apply the translation\n",
    "T1 = 273.15\n",
    "  \n",
    "for temp_col in temp_cols:\n",
    "    df_1 = df_1.withColumn(temp_col, F.when(F.col(temp_col).between(-273.15,273.15), F.col(temp_col)).otherwise(F.when(F.col(temp_col) < T0 ,F.col(temp_col)+sint16_scale)))\n",
    "    "
   ]
  },
  {
   "cell_type": "code",
   "execution_count": 12,
   "id": "6c84aef7",
   "metadata": {},
   "outputs": [],
   "source": [
    "df_1 = df_1.na.drop(how='any',subset=[\"totalvehicledistancehighres\",\n",
    "\"grosscombinationvehicleweight\",\n",
    "\"ambientairtemperature\",\"actsoc_ep1_x_b3\",\"actcurrent_ep1_x_b3\",\"actpackvoltage_ep1_x_b3\",\"actsohcap_ep1_x_b3\",\"actmintemp_ep1_x_b3\",\n",
    "\"actmaxtemp_ep1_x_b3\", \n",
    "\"actavgtemp_ep1_x_b3\",\n",
    "\"actstatus_ep1_x_b3\",\n",
    "\"disconnectstatus_ep1_x_b3\",\"vehiclemode\",'vehiclemode_encoded',\"time_abs\",\"data_filename\",\"zip_filename\",\"vehicle\"])"
   ]
  },
  {
   "cell_type": "code",
   "execution_count": 13,
   "id": "c9382c2e",
   "metadata": {},
   "outputs": [],
   "source": [
    "df_1 = df_1.select(\"*\")\\\n",
    "        .filter((F.col(\"actsoc_ep1_x_b3\").between(0,100)) & (F.col(\"actsohcap_ep1_x_b3\").between(0,100)) & (F.col(\"ambientairtemperature\") < 100) & (F.col(\"status\") == \"Driving_NotCharging\"))\n",
    "\n",
    "#have to check the filters for 1year data if needed"
   ]
  },
  {
   "cell_type": "markdown",
   "id": "cf7eba5d",
   "metadata": {},
   "source": [
    "## Batching data based on time diff > 600 and changing zip filename"
   ]
  },
  {
   "cell_type": "code",
   "execution_count": 14,
   "id": "28feb507",
   "metadata": {},
   "outputs": [],
   "source": [
    "#window function for the procedure\n",
    "my_window = W.partitionBy().orderBy(\"time_abs\")"
   ]
  },
  {
   "cell_type": "code",
   "execution_count": 15,
   "id": "54b55d0d",
   "metadata": {},
   "outputs": [],
   "source": [
    "w3 = W.partitionBy(\"vehicle\").orderBy(F.col(\"time_abs\"))\n",
    "df_1 = df_1.withColumn(\"time_diff\", F.lag(F.unix_timestamp(\"time_abs\")).over(w3))\\\n",
    "  .withColumn(\"time_diff\", F.when(F.col(\"time_diff\").isNotNull(), F.unix_timestamp(\"time_abs\")-F.col(\"time_diff\"))\\\n",
    "                         .otherwise(F.lit(0)))"
   ]
  },
  {
   "cell_type": "code",
   "execution_count": 16,
   "id": "6c2d4369",
   "metadata": {},
   "outputs": [],
   "source": [
    "df_1 = df_1.withColumn(\"name_diff\", F.when(F.col(\"zip_filename\") == F.lag(F.col(\"zip_filename\")).over(w3),0).otherwise(1))\n",
    "        #.withColumn(\"status_diff\",F.when(F.col(\"status\") == F.lag(F.col(\"status\")).over(my_window),0).otherwise(1))"
   ]
  },
  {
   "cell_type": "code",
   "execution_count": 17,
   "id": "6d74eac4",
   "metadata": {},
   "outputs": [],
   "source": [
    "df_1 = df_1.withColumn('Batch', F.when((F.col(\"name_diff\") == 1) | (F.col(\"time_diff\") > 600), 1).otherwise(0))\\\n",
    "        .withColumn(\"Batch_ID\", F.sum(F.col(\"Batch\")).over(my_window))"
   ]
  },
  {
   "cell_type": "markdown",
   "id": "4bc8d9d3",
   "metadata": {},
   "source": [
    "### Creating individual time stamp difference for each batch "
   ]
  },
  {
   "cell_type": "code",
   "execution_count": 18,
   "id": "ffebf023",
   "metadata": {},
   "outputs": [],
   "source": [
    "w3 = W.partitionBy(\"Batch_ID\").orderBy(F.col(\"time_abs\"))\n",
    "df_diff = df_1.withColumn(\"batch_time_diff\", F.lag(F.unix_timestamp(\"time_abs\")).over(w3))\\\n",
    "  .withColumn(\"batch_time_diff\", F.when(F.col(\"batch_time_diff\").isNotNull(), F.unix_timestamp(\"time_abs\")-F.col(\"batch_time_diff\"))\\\n",
    "                         .otherwise(F.lit(0))).orderBy(\"Batch_ID\",\"time_abs\").drop(\"Batch\").drop(\"Batch\").drop(\"name_diff\").drop(\"status_diff\").drop(\"status_ohe\").drop(\"vehiclemode_encoded_ohe\").drop(\"time_diff\")"
   ]
  },
  {
   "cell_type": "markdown",
   "id": "a9ec6f24",
   "metadata": {},
   "source": [
    "## Encoding string of vehicle to int"
   ]
  },
  {
   "cell_type": "code",
   "execution_count": 29,
   "id": "e893d484",
   "metadata": {},
   "outputs": [],
   "source": [
    "from pyspark.ml.feature import StringIndexer\n",
    "\n",
    "indexer = StringIndexer(inputCol='vehicle', outputCol='vehicle_int')\n",
    "indexer.setHandleInvalid(\"skip\")\n",
    "indexer_fitted = indexer.fit(df_diff)\n",
    "df_t = indexer_fitted.transform(df_diff)\n",
    "\n",
    "df_driving = df_t.withColumn(\"vehicle_int\" , F.col(\"vehicle_int\")+1)\\\n",
    "    .drop(F.col(\"vehicle\")).drop(F.col(\"data_filename\")).drop(F.col(\"status\")).drop(F.col(\"vehiclemode_encoded\")).drop(F.col(\"vehiclemode\")).drop(F.col(\"disconnectstatus_ep1_x_b3\")).drop(F.col(\"zip_filename\"))\n"
   ]
  },
  {
   "cell_type": "code",
   "execution_count": 30,
   "id": "a65d6eb6",
   "metadata": {},
   "outputs": [
    {
     "name": "stdout",
     "output_type": "stream",
     "text": [
      "CPU times: user 9.36 s, sys: 37.5 ms, total: 9.4 s\n",
      "Wall time: 18.9 s\n"
     ]
    }
   ],
   "source": [
    "%%time\n",
    "df_driving_pd = df_driving.toPandas()\n"
   ]
  },
  {
   "cell_type": "code",
   "execution_count": 54,
   "id": "5ad0f8af",
   "metadata": {
    "scrolled": true
   },
   "outputs": [],
   "source": [
    "from sklearn.preprocessing import StandardScaler\n",
    "from math import sqrt\n",
    "\n",
    "list1 = ['totalvehicledistancehighres', 'grosscombinationvehicleweight',\n",
    "        'ambientairtemperature', 'actsoc_ep1_x_b3', 'actcurrent_ep1_x_b3',\n",
    "        'actpackvoltage_ep1_x_b3', 'actsohcap_ep1_x_b3', 'actmintemp_ep1_x_b3',\n",
    "        'actmaxtemp_ep1_x_b3', 'actavgtemp_ep1_x_b3']\n",
    "\n",
    "\n",
    "pd_std_df = df_driving_pd.set_index('time_abs')\n",
    "std_scaler = StandardScaler()\n",
    "\n",
    "# fit and transform the data\n",
    "pd_std_df[list1] = std_scaler.fit_transform(pd_std_df[list1])\n",
    "\n",
    "path = r'/mnt/proj/emob-da1/zz_thesis_work/model_test'\n",
    "\n",
    "for (gender), group in pd_std_df.groupby(['Batch_ID']):\n",
    "     group.to_csv(path+f'{gender}.csv', index=False)"
   ]
  },
  {
   "cell_type": "code",
   "execution_count": 46,
   "id": "305b47b6",
   "metadata": {},
   "outputs": [
    {
     "data": {
      "text/plain": [
       "166893"
      ]
     },
     "execution_count": 46,
     "metadata": {},
     "output_type": "execute_result"
    }
   ],
   "source": [
    "len(pd_std_df)"
   ]
  },
  {
   "cell_type": "code",
   "execution_count": 52,
   "id": "d0781436",
   "metadata": {},
   "outputs": [
    {
     "data": {
      "text/plain": [
       "'/mnt/proj/emob-da1/zz_thesis_work'"
      ]
     },
     "execution_count": 52,
     "metadata": {},
     "output_type": "execute_result"
    }
   ],
   "source": [
    "pwd"
   ]
  },
  {
   "cell_type": "code",
   "execution_count": null,
   "id": "3a75b26c",
   "metadata": {},
   "outputs": [],
   "source": [
    "%%time\n",
    "mean_age, sttdev_age = df_driving.select(F.mean(F.col('totalvehicledistancehighres')), F.stddev(F.col('totalvehicledistancehighres'))).first()\n",
    "df_std = df_driving.withColumn(\"totalvehicledistancehighres\", (F.col('totalvehicledistancehighres') - mean_age) / sttdev_age)\n",
    "\n",
    "mean_age, sttdev_age = df_driving.select(F.mean(F.col('actsohcap_ep1_x_b3')), F.stddev(F.col('actsohcap_ep1_x_b3'))).first()\n",
    "df_std = df_std.withColumn(\"actsohcap_ep1_x_b3\", (F.col('actsohcap_ep1_x_b3') - mean_age) / sttdev_age)\n",
    "\n",
    "mean_age, sttdev_age = df_driving.select(F.mean(F.col('grosscombinationvehicleweight')), F.stddev(F.col('grosscombinationvehicleweight'))).first()\n",
    "df_std = df_std.withColumn(\"grosscombinationvehicleweight\", (F.col('grosscombinationvehicleweight') - mean_age) / sttdev_age)\n",
    "\n",
    "mean_age, sttdev_age = df_driving.select(F.mean(F.col('ambientairtemperature')), F.stddev(F.col('ambientairtemperature'))).first()\n",
    "df_std = df_std.withColumn(\"ambientairtemperature\", (F.col('ambientairtemperature') - mean_age) / sttdev_age)\n",
    "\n",
    "mean_age, sttdev_age = df_driving.select(F.mean(F.col('actsoc_ep1_x_b3')), F.stddev(F.col('actsoc_ep1_x_b3'))).first()\n",
    "df_std = df_std.withColumn(\"actsoc_ep1_x_b3\", (F.col('actsoc_ep1_x_b3') - mean_age) / sttdev_age)\n",
    "\n",
    "mean_age, sttdev_age = df_driving.select(F.mean(F.col('actcurrent_ep1_x_b3')), F.stddev(F.col('actcurrent_ep1_x_b3'))).first()\n",
    "df_std = df_std.withColumn(\"actcurrent_ep1_x_b3\", (F.col('actcurrent_ep1_x_b3') - mean_age) / sttdev_age)\n",
    "\n",
    "mean_age, sttdev_age = df_driving.select(F.mean(F.col('actpackvoltage_ep1_x_b3')), F.stddev(F.col('actpackvoltage_ep1_x_b3'))).first()\n",
    "df_std = df_std.withColumn(\"actpackvoltage_ep1_x_b3\", (F.col('actpackvoltage_ep1_x_b3') - mean_age) / sttdev_age)\n",
    "\n",
    "mean_age, sttdev_age = df_driving.select(F.mean(F.col('actmintemp_ep1_x_b3')), F.stddev(F.col('actmintemp_ep1_x_b3'))).first()\n",
    "df_std = df_std.withColumn(\"actmintemp_ep1_x_b3\", (F.col('actmintemp_ep1_x_b3') - mean_age) / sttdev_age)\n",
    "\n",
    "mean_age, sttdev_age = df_driving.select(F.mean(F.col('actmaxtemp_ep1_x_b3')), F.stddev(F.col('actmaxtemp_ep1_x_b3'))).first()\n",
    "df_std = df_std.withColumn(\"actmaxtemp_ep1_x_b3\", (F.col('actmaxtemp_ep1_x_b3') - mean_age) / sttdev_age)\n",
    "\n",
    "mean_age, sttdev_age = df_driving.select(F.mean(F.col('actavgtemp_ep1_x_b3')), F.stddev(F.col('actavgtemp_ep1_x_b3'))).first()\n",
    "df_std = df_std.withColumn(\"actavgtemp_ep1_x_b3\", (F.col('actavgtemp_ep1_x_b3') - mean_age) / sttdev_age)"
   ]
  },
  {
   "cell_type": "markdown",
   "id": "7a30bced",
   "metadata": {},
   "source": [
    "## Saving the dataframe as parquet batch-wise"
   ]
  },
  {
   "cell_type": "code",
   "execution_count": null,
   "id": "6382f8e3",
   "metadata": {},
   "outputs": [],
   "source": [
    "df_std.repartition(1).write.partitionBy(\"Batch_ID\").parquet(\"Batch_data_2022\")\n",
    "#df_std.write.partitionBy('Batch_ID').format(\"csv\").save(\"csv_test\")\n"
   ]
  },
  {
   "cell_type": "code",
   "execution_count": null,
   "id": "98658358",
   "metadata": {},
   "outputs": [],
   "source": [
    "!hdfs dfs -copyToLocal Batch_data_2022 /mnt/proj/emob-da1/zz_thesis_work\n"
   ]
  },
  {
   "cell_type": "markdown",
   "id": "2a1bafe9",
   "metadata": {},
   "source": [
    "## Creating pandas df for EDA over batches"
   ]
  },
  {
   "cell_type": "code",
   "execution_count": null,
   "id": "17dba6c5",
   "metadata": {},
   "outputs": [],
   "source": [
    "index = ['totalvehicledistancehighres',\n",
    " 'grosscombinationvehicleweight',\n",
    " 'ambientairtemperature',\n",
    " 'actsoc_ep1_x_b3',\n",
    " 'actcurrent_ep1_x_b3',\n",
    " 'actpackvoltage_ep1_x_b3',\n",
    " 'actsohcap_ep1_x_b3',\n",
    " 'actmintemp_ep1_x_b3',\n",
    " 'actmaxtemp_ep1_x_b3',\n",
    " 'actavgtemp_ep1_x_b3',\n",
    " 'actstatus_ep1_x_b3',\n",
    " 'time_abs',\n",
    " 'zip_filename',\n",
    " 'Batch_ID',\n",
    " 'batch_time_diff',\n",
    " 'vehicle_int']\n",
    "\n",
    "pd_long = pd.read_parquet('/mnt/proj/emob-da1/zz_thesis_work/Batch_data_2022/Batch_ID=33',engine='fastparquet')\n"
   ]
  },
  {
   "cell_type": "code",
   "execution_count": null,
   "id": "8b30d6ad",
   "metadata": {},
   "outputs": [],
   "source": [
    "\n",
    "g_cols = [\"actmintemp_ep1_x_b3\",\n",
    "\"actmaxtemp_ep1_x_b3\", \n",
    "\"actavgtemp_ep1_x_b3\",\"ambientairtemperature\",\"actsoc_ep1_x_b3\",\"actcurrent_ep1_x_b3\",\"actpackvoltage_ep1_x_b3\",\"actsohcap_ep1_x_b3\"]\n",
    "\n",
    "pd_g = pd_long[g_cols]\n",
    "\n",
    "fig, a = plt.subplots(2, 4, figsize=(30, 10), tight_layout=True)\n",
    "pd_g.plot(ax=a, subplots=True, rot=60);"
   ]
  },
  {
   "cell_type": "code",
   "execution_count": null,
   "id": "9f1c41a8",
   "metadata": {},
   "outputs": [],
   "source": [
    "pd_long[pd_long['actstatus_ep1_x_b3'] == 3.0]\n"
   ]
  },
  {
   "cell_type": "code",
   "execution_count": null,
   "id": "cb51408c",
   "metadata": {},
   "outputs": [],
   "source": [
    "from statsmodels.tsa.stattools import grangercausalitytests\n",
    "\n",
    "#perform Granger-Causality test\n",
    "grangercausalitytests(df[['egg', 'chicken']], maxlag=[3])"
   ]
  },
  {
   "cell_type": "code",
   "execution_count": null,
   "id": "033f8c9d",
   "metadata": {},
   "outputs": [],
   "source": [
    "df_temp = df_t[df_t.charging_cycle == 'Charging']\n",
    "fig, ax = plt.subplots(1,1, figsize = (20,10))\n",
    "\n",
    "signal = 'actsoc_ep1_x_b1'\n",
    "color_list = ['black', 'red', 'magenta']\n",
    "for k, label in enumerate(df_temp.status.unique()):\n",
    "    mask = (df_t['status'] == label) & (df_temp.actcurrent_ep1_x_b1 > -150)\n",
    "    ax.scatter(df_temp[mask].time_abs, df_temp[mask].actcurrent_ep1_x_b1, c = color_list[k])\n",
    "    ax2 = ax.twinx()\n",
    "    ax2.scatter(df_temp[mask].time_abs, df_temp[mask][signal], label = label)\n",
    "ax.legend()\n"
   ]
  },
  {
   "cell_type": "code",
   "execution_count": null,
   "id": "1e342a62",
   "metadata": {},
   "outputs": [],
   "source": [
    "from sklearn.decomposition import PCA\n",
    "\n",
    "pca = PCA()\n",
    "pd_pca = pca.fit(pd_long)"
   ]
  },
  {
   "cell_type": "code",
   "execution_count": null,
   "id": "c2333e87",
   "metadata": {},
   "outputs": [],
   "source": []
  },
  {
   "cell_type": "code",
   "execution_count": null,
   "id": "e03aec3f",
   "metadata": {},
   "outputs": [],
   "source": []
  },
  {
   "cell_type": "code",
   "execution_count": null,
   "id": "aa3f7792",
   "metadata": {},
   "outputs": [],
   "source": [
    "spark.stop()"
   ]
  },
  {
   "cell_type": "code",
   "execution_count": null,
   "id": "ed67707a",
   "metadata": {},
   "outputs": [],
   "source": [
    "pd_long = pd_long.drop(columns=\"zip_filename\")"
   ]
  },
  {
   "cell_type": "code",
   "execution_count": null,
   "id": "ff3d05e2",
   "metadata": {},
   "outputs": [],
   "source": [
    "pd_pca.explained_variance_ratio_"
   ]
  },
  {
   "cell_type": "code",
   "execution_count": null,
   "id": "3e5c7919",
   "metadata": {},
   "outputs": [],
   "source": [
    "plt.plot(np.cumsum(pd_pca.explained_variance_ratio_))\n",
    "plt.xlabel('number of components')\n",
    "plt.ylabel('cumulative explained variance')\n",
    "\n"
   ]
  },
  {
   "cell_type": "code",
   "execution_count": null,
   "id": "f35cf15c",
   "metadata": {},
   "outputs": [],
   "source": [
    "num_components = 4\n",
    "pca = PCA(num_components)\n",
    "X_pca = pca.fit_transform(pd_long) # fit and reduce dimension"
   ]
  },
  {
   "cell_type": "code",
   "execution_count": null,
   "id": "c3bc74ac",
   "metadata": {},
   "outputs": [],
   "source": [
    "pd.DataFrame(pca.components_, columns = pd_long.columns)"
   ]
  },
  {
   "cell_type": "code",
   "execution_count": null,
   "id": "dc348b75",
   "metadata": {},
   "outputs": [],
   "source": [
    "cp -r ./Batch_data_2022/Batch_ID=10 ./Batch_data_2022/Batch_ID=105 ./diff_batches"
   ]
  },
  {
   "cell_type": "code",
   "execution_count": null,
   "id": "70532e1c",
   "metadata": {},
   "outputs": [],
   "source": [
    "import pandas as pd\n",
    "from plotly.subplots import make_subplots\n",
    "import plotly.graph_objects as go\n",
    "import plotly.express as px\n",
    "\n",
    "list1 = ['totalvehicledistancehighres', 'grosscombinationvehicleweight',\n",
    "        'ambientairtemperature', 'actsoc_ep1_x_b3', 'actcurrent_ep1_x_b3',\n",
    "        'actpackvoltage_ep1_x_b3', 'actsohcap_ep1_x_b3', 'actmintemp_ep1_x_b3',\n",
    "        'actmaxtemp_ep1_x_b3', 'actavgtemp_ep1_x_b3']\n",
    "\n",
    "\n",
    "df1 = pd.read_parquet('/mnt/proj/emob-da1/zz_thesis_work/Batch_data_2022/Batch_ID=31',engine='fastparquet')\n",
    "df2 = pd.read_parquet('/mnt/proj/emob-da1/zz_thesis_work/Batch_data_2022/Batch_ID=11',engine='fastparquet')\n",
    "df3 = pd.read_parquet('/mnt/proj/emob-da1/zz_thesis_work/Batch_data_2022/Batch_ID=237',engine='fastparquet')\n",
    "df4 = pd.read_parquet('/mnt/proj/emob-da1/zz_thesis_work/Batch_data_2022/Batch_ID=479',engine='fastparquet')\n",
    "df5 = pd.read_parquet('/mnt/proj/emob-da1/zz_thesis_work/Batch_data_2022/Batch_ID=546',engine='fastparquet')\n",
    "df6 = pd.read_parquet('/mnt/proj/emob-da1/zz_thesis_work/Batch_data_2022/Batch_ID=382',engine='fastparquet')\n",
    "\n",
    "dfs = {\"df1\" : df1, \"df2\": df2, \"df3\" : df3, \"df4\" : df4, \"df5\" : df5, \"df6\" : df6}\n",
    "\n",
    "# fig = make_subplots(rows = 2,cols = 1)\n",
    "\n",
    "# fig.append_trace(go.Scatter(x=df1.time_abs, y=df1[list1], name=\"a\"),row = 1, col=1)\n",
    "# fig.append_trace(go.Scatter(x=df2.time_abs, y=df2[list1], name=\"b\"),row = 2, col=1)\n",
    "\n",
    "\n",
    "# import matplotlib.pyplot as plt\n",
    "\n",
    "# fig, axes = plt.subplots(nrows=2, ncols=2)\n",
    "\n",
    "# df1.plot(ax=axes[0,0])\n",
    "# df2.plot(ax=axes[0,1])\n",
    "\n",
    "# fig.show()\n",
    "\n",
    "\n",
    "\n",
    "\n"
   ]
  },
  {
   "cell_type": "code",
   "execution_count": null,
   "id": "8a3596bc",
   "metadata": {},
   "outputs": [],
   "source": [
    "from plotly.subplots import make_subplots\n",
    "import plotly.graph_objects as go\n",
    "import plotly.express as px\n",
    "\n",
    "\n",
    "list1 = ['totalvehicledistancehighres', 'grosscombinationvehicleweight',\n",
    "        'ambientairtemperature', 'actsoc_ep1_x_b3', 'actcurrent_ep1_x_b3',\n",
    "        'actpackvoltage_ep1_x_b3', 'actsohcap_ep1_x_b3', 'actmintemp_ep1_x_b3',\n",
    "        'actmaxtemp_ep1_x_b3', 'actavgtemp_ep1_x_b3']\n",
    "\n",
    "# fig = make_subplots(rows = 3,cols = 2)\n",
    "\n",
    "# fig = px.line(df1, x=df1.time_abs, y=list1,row=1,col=1)\n",
    "# fig = px.line(df1, x=df2.time_abs, y=list1,row=2,col=1)\n",
    "# fig = px.line(df1, x=df3.time_abs, y=list1,row=3,col=1)\n",
    "# fig = px.line(df1, x=df4.time_abs, y=list1,row=1,col=2)\n",
    "# fig = px.line(df1, x=df5.time_abs, y=list1,row=2,col=2)\n",
    "# fig = px.line(df1, x=df6.time_abs, y=list1,row=3,col=2)\n",
    "\n",
    "\n",
    "# fig.show()\n",
    "\n",
    "fig = make_subplots(rows=2, cols=1)\n",
    "trace1 = px.line(df1, x='time_abs', y=list1)\n",
    "trace2 = px.line(df2, x='time_abs', y=list1)\n",
    "\n",
    "fig.add_trace(trace1, row=1, col=1)\n",
    "fig.add_trace(trace2, row=2, col=1)\n",
    "fig.show()\n"
   ]
  },
  {
   "cell_type": "code",
   "execution_count": null,
   "id": "ec94c37f",
   "metadata": {},
   "outputs": [],
   "source": [
    "df1"
   ]
  },
  {
   "cell_type": "code",
   "execution_count": null,
   "id": "9691ccea",
   "metadata": {},
   "outputs": [],
   "source": []
  }
 ],
 "metadata": {
  "kernelspec": {
   "display_name": "Python 3",
   "language": "python",
   "name": "python3"
  },
  "language_info": {
   "codemirror_mode": {
    "name": "ipython",
    "version": 3
   },
   "file_extension": ".py",
   "mimetype": "text/x-python",
   "name": "python",
   "nbconvert_exporter": "python",
   "pygments_lexer": "ipython3",
   "version": "3.6.8"
  }
 },
 "nbformat": 4,
 "nbformat_minor": 5
}
